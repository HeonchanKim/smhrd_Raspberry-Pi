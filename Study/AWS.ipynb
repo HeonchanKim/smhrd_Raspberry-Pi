{
 "cells": [
  {
   "cell_type": "markdown",
   "id": "ff75ca4a",
   "metadata": {},
   "source": [
    "# AWS를 윈도우에서 사용해보기!"
   ]
  },
  {
   "cell_type": "code",
   "execution_count": 2,
   "id": "43c4c312",
   "metadata": {},
   "outputs": [
    {
     "name": "stdout",
     "output_type": "stream",
     "text": [
      "Collecting boto3\n",
      "  Downloading boto3-1.21.35-py3-none-any.whl (132 kB)\n",
      "Collecting jmespath<2.0.0,>=0.7.1\n",
      "  Downloading jmespath-1.0.0-py3-none-any.whl (23 kB)\n",
      "Collecting s3transfer<0.6.0,>=0.5.0\n",
      "  Downloading s3transfer-0.5.2-py3-none-any.whl (79 kB)\n",
      "Collecting botocore<1.25.0,>=1.24.35\n",
      "  Downloading botocore-1.24.35-py3-none-any.whl (8.7 MB)\n",
      "Requirement already satisfied: urllib3<1.27,>=1.25.4 in c:\\users\\smhrd\\anaconda3\\lib\\site-packages (from botocore<1.25.0,>=1.24.35->boto3) (1.26.7)\n",
      "Requirement already satisfied: python-dateutil<3.0.0,>=2.1 in c:\\users\\smhrd\\anaconda3\\lib\\site-packages (from botocore<1.25.0,>=1.24.35->boto3) (2.8.2)\n",
      "Requirement already satisfied: six>=1.5 in c:\\users\\smhrd\\anaconda3\\lib\\site-packages (from python-dateutil<3.0.0,>=2.1->botocore<1.25.0,>=1.24.35->boto3) (1.16.0)\n",
      "Installing collected packages: jmespath, botocore, s3transfer, boto3\n",
      "Successfully installed boto3-1.21.35 botocore-1.24.35 jmespath-1.0.0 s3transfer-0.5.2\n"
     ]
    }
   ],
   "source": [
    "!pip3 install boto3"
   ]
  },
  {
   "cell_type": "code",
   "execution_count": 20,
   "id": "433bcb66",
   "metadata": {},
   "outputs": [
    {
     "name": "stdout",
     "output_type": "stream",
     "text": [
      "Detected labels in test.png\n",
      "허스키가 아닙니다.\n",
      "Labels detected: 4\n"
     ]
    }
   ],
   "source": [
    "#Copyright 2018 Amazon.com, Inc. or its affiliates. All Rights Reserved.\n",
    "#PDX-License-Identifier: MIT-0 (For details, see https://github.com/awsdocs/amazon-rekognition-developer-guide/blob/master/LICENSE-SAMPLECODE.)\n",
    "\n",
    "import boto3\n",
    "\n",
    "def detect_labels_local_file(photo):\n",
    "\n",
    "\n",
    "    client=boto3.client('rekognition')\n",
    "   \n",
    "    with open(photo, 'rb') as image:\n",
    "        response = client.detect_labels(Image={'Bytes': image.read()})\n",
    "        \n",
    "    print('Detected labels in ' + photo)\n",
    "    check = True\n",
    "    \n",
    "    for label in response['Labels']:\n",
    "        if label['Name'] == \"Husky\":\n",
    "            print(f\"허스키일 확률은 {round(label['Confidence'],2)}% 입니다.\")\n",
    "            check = False\n",
    "    if check == True:\n",
    "        print(\"허스키가 아닙니다.\")\n",
    "    #for label in response['Labels']:\n",
    "        #print (label['Name'] + ' : ' + str(label['Confidence']))\n",
    "\n",
    "    return len(response['Labels'])\n",
    "\n",
    "def main():\n",
    "    photo='test.png'\n",
    "\n",
    "    label_count=detect_labels_local_file(photo)\n",
    "    print(\"Labels detected: \" + str(label_count))\n",
    "\n",
    "\n",
    "if __name__ == \"__main__\":\n",
    "    main()"
   ]
  },
  {
   "cell_type": "code",
   "execution_count": 53,
   "id": "76ee564b",
   "metadata": {},
   "outputs": [
    {
     "name": "stdout",
     "output_type": "stream",
     "text": [
      "Detected faces for tom.jpg\n",
      "현재 나이는 28살 입니다.\n",
      "성별은 남성입니다.\n",
      "대표 감정은 CALM입니다.\n",
      "Faces detected: 1\n"
     ]
    }
   ],
   "source": [
    "#Copyright 2018 Amazon.com, Inc. or its affiliates. All Rights Reserved.\n",
    "#PDX-License-Identifier: MIT-0 (For details, see https://github.com/awsdocs/amazon-rekognition-developer-guide/blob/master/LICENSE-SAMPLECODE.)\n",
    "\n",
    "import boto3\n",
    "import json\n",
    "\n",
    "def detect_faces(photo, bucket):\n",
    "\n",
    "    client=boto3.client('rekognition')\n",
    "\n",
    "    response = client.detect_faces(Image={'S3Object':{'Bucket':bucket,'Name':photo}},Attributes=['ALL'])\n",
    "\n",
    "    print('Detected faces for ' + photo)    \n",
    "    for faceDetail in response['FaceDetails']:\n",
    "        #print('The detected face is between ' + str(faceDetail['AgeRange']['Low']) \n",
    "        #      + ' and ' + str(faceDetail['AgeRange']['High']) + ' years old')\n",
    "        \n",
    "        \n",
    "        age = faceDetail['AgeRange']['Low']+faceDetail['AgeRange']['High']\n",
    "        print(\"현재 나이는 %d살 입니다.\"%(age/2))\n",
    "        \n",
    "        if faceDetail['Gender']['Value'] == \"Male\":\n",
    "            print(\"성별은 남성입니다.\")\n",
    "        else:\n",
    "            print(\"성별은 여성입니다.\")\n",
    "            \n",
    "        print(f\"대표 감정은 {faceDetail['Emotions'][0]['Type']}입니다.\")\n",
    "        #print(faceDetail['Emotions'])\n",
    "        \n",
    "        \n",
    "    #print(response['FaceDetails'])\n",
    "        #print('Here are the other attributes:')\n",
    "        #print(json.dumps(faceDetail, indent=4, sort_keys=True))\n",
    "\n",
    "\t\t# Access predictions for individual face details and print them\n",
    "        #print(\"Gender: \" + str(faceDetail['Gender']))\n",
    "        #print(\"Smile: \" + str(faceDetail['Smile']))\n",
    "        #print(\"Eyeglasses: \" + str(faceDetail['Eyeglasses']))\n",
    "        #print(\"Emotions: \" + str(faceDetail['Emotions'][0]))\n",
    "\n",
    "    return len(response['FaceDetails'])\n",
    "def main():\n",
    "    photo='tom.jpg'\n",
    "    bucket='heonheon'\n",
    "    face_count=detect_faces(photo, bucket)\n",
    "    print(\"Faces detected: \" + str(face_count))\n",
    "\n",
    "\n",
    "if __name__ == \"__main__\":\n",
    "    main()\n",
    "\n"
   ]
  },
  {
   "cell_type": "code",
   "execution_count": null,
   "id": "c27a589f",
   "metadata": {},
   "outputs": [],
   "source": []
  },
  {
   "cell_type": "code",
   "execution_count": null,
   "id": "fd22f1b6",
   "metadata": {},
   "outputs": [],
   "source": []
  },
  {
   "cell_type": "code",
   "execution_count": null,
   "id": "7741776a",
   "metadata": {},
   "outputs": [],
   "source": []
  },
  {
   "cell_type": "code",
   "execution_count": null,
   "id": "8ecc7a7d",
   "metadata": {},
   "outputs": [],
   "source": []
  },
  {
   "cell_type": "code",
   "execution_count": null,
   "id": "bdbc467d",
   "metadata": {},
   "outputs": [],
   "source": []
  },
  {
   "cell_type": "code",
   "execution_count": null,
   "id": "f96facce",
   "metadata": {},
   "outputs": [],
   "source": []
  },
  {
   "cell_type": "code",
   "execution_count": null,
   "id": "0a43785a",
   "metadata": {},
   "outputs": [],
   "source": []
  },
  {
   "cell_type": "code",
   "execution_count": null,
   "id": "6958125e",
   "metadata": {},
   "outputs": [],
   "source": []
  },
  {
   "cell_type": "code",
   "execution_count": null,
   "id": "182a5999",
   "metadata": {},
   "outputs": [],
   "source": []
  },
  {
   "cell_type": "code",
   "execution_count": null,
   "id": "e8e76304",
   "metadata": {},
   "outputs": [],
   "source": []
  }
 ],
 "metadata": {
  "kernelspec": {
   "display_name": "Python 3 (ipykernel)",
   "language": "python",
   "name": "python3"
  },
  "language_info": {
   "codemirror_mode": {
    "name": "ipython",
    "version": 3
   },
   "file_extension": ".py",
   "mimetype": "text/x-python",
   "name": "python",
   "nbconvert_exporter": "python",
   "pygments_lexer": "ipython3",
   "version": "3.9.7"
  }
 },
 "nbformat": 4,
 "nbformat_minor": 5
}
